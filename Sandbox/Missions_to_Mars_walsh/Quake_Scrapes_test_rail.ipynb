{
 "cells": [
  {
   "cell_type": "code",
   "execution_count": 1,
   "metadata": {},
   "outputs": [],
   "source": [
    "# Import BeautifulSoup\n",
    "from bs4 import BeautifulSoup as bs\n",
    "import time\n",
    "import pandas as pd"
   ]
  },
  {
   "cell_type": "code",
   "execution_count": 2,
   "metadata": {},
   "outputs": [],
   "source": [
    "# Import Splinter and set the chromedriver path\n",
    "from splinter import Browser\n",
    "executable_path = {\"executable_path\": \"c:\\\\Users\\\\mwals\\\\Desktop\\chromedriver\"}\n",
    "browser = Browser(\"chrome\", **executable_path, headless=False)"
   ]
  },
  {
   "cell_type": "raw",
   "metadata": {},
   "source": []
  },
  {
   "cell_type": "markdown",
   "metadata": {},
   "source": [
    "## Earthquake News"
   ]
  },
  {
   "cell_type": "code",
   "execution_count": 3,
   "metadata": {},
   "outputs": [],
   "source": [
    "# Visit the following URL\n",
    "url = \"https://www.indiatoday.in/earthquake-indiatoday?page=1&view_type=list\"\n",
    "browser.visit(url)"
   ]
  },
  {
   "cell_type": "code",
   "execution_count": 4,
   "metadata": {},
   "outputs": [],
   "source": [
    "# Scrape page into Soup\n",
    "html = browser.html\n",
    "soup = bs(html, \"html.parser\")\n",
    "time.sleep(2)"
   ]
  },
  {
   "cell_type": "code",
   "execution_count": 5,
   "metadata": {},
   "outputs": [],
   "source": [
    "news_title = soup.find('div', class_='view view-category-wise-content-list view-id-category_wise_content_list view-display-id-section_wise_content_listing view-dom-id- custom').text\n"
   ]
  },
  {
   "cell_type": "code",
   "execution_count": 6,
   "metadata": {},
   "outputs": [
    {
     "name": "stdout",
     "output_type": "stream",
     "text": [
      " Rescuers arrive after Ecuador quake, 135 aftershocks reportedAuthorities in Ecuador are mobilizing resources and help is getting to the\n",
      "ground after a long night of fear, uncertainity caused by 7.8 earthquake that\n",
      "killed 77 people. 11 missing in Japan quakes, US to join relief effortsThousands of rescue workers fanned out in often mountainous terrain and\n",
      "rescue helicopters  often mountainous terrain to search for the missing. US\n",
      "Forces said it is getting ready to prove aerial support for Japan's relief\n",
      "efforts. Some sleep in cars after 2 nights of quakes kill 41 in JapanPolice in Kumamoto prefecture said that at least 32 people had died from Saturday morning's earthquake. Nine died in the quake on Thursday\n",
      "night. PM Modi distressed as Japan earthquakes kill over 40Around 20,000 troops were deployed for rescue operations in Japan's\n",
      "Kyushu region after the quake struck around 1.25 a.m. on Saturday. Strong 6.4-magnitude earthquake hits Japan, no tsunami alertJapan's Meteorological Agency said the quake hit at 9:26 p.m. (1226\n",
      "GMT) and was centered in the Mashiki town in the Kumamoto prefecture. 6.8 magnitude earthquake in Myanmar, strong tremors felt in Kolkata, DelhiThe Indian Meteorological Department (IMD) said the 6.8 magnitude tremor\n",
      "struck northwest Myanmar near the Indian border. 6.8 magnitude earthquake hits Hindukush region in Afghanistan, tremors jolt North IndiaThe epicentre of the quake, measuring 6.8 on the Richter scale, was\n",
      "located in Hindukush region, 282 Km NE of Kabul in Afghanistan. 15 injured as earthquake hits Kathmandu, tremors felt in BiharAt least 15 people have been reportedly injured in the earthquake. Earthquake of magnitude 3.8 hits Jaipur in RajasthanThe Met department has said a minor earthquake of magnitude 3.8 struck at\n",
      "04:17 am epicentred near Jaipur in Rajasthan. There were no reports of any\n",
      "casualty or damage to property. 5.0 magnitude earthquake jolts Afghanistan, Pakistan, tremors felt in J&KEarthquake of magnitude 5.0 in Afghanistan's Hindu Kush region sent tremors\n",
      "as far Jammu and Kashmir today. 9 dead, 100 injured as 6.8 earthquake hits Northeast IndiaEarthquake measuring 6.8 on Richter scale shakes Myanmar-India border\n",
      "region. Tremors were also felt in parts of northeast India.* In pics [1]*\n",
      "[1] http://indiatoday.intoday.in/gallery/earthquake-6-8-magnitude-quake-hits-northeast-india/1/16703.html 5.8-magnitude earthquake strikes Afghanistan, tremors felt in North India An earthquake of 5.8 magnitude on the Richter Scale in Afghanistan sent\n",
      "tremors across North India on Saturday. Initial reports suggest\n",
      "epicentre of earthquake in Afghanistan's Hindu Kush region.Pages« firstPrevious123456789Nextlast »\n"
     ]
    }
   ],
   "source": [
    "print(news_title)"
   ]
  },
  {
   "cell_type": "code",
   "execution_count": 7,
   "metadata": {},
   "outputs": [
    {
     "data": {
      "text/plain": [
       "'https://akm-img-a-in.tosshub.com/indiatoday/images/story/201604/ecuador-earthquake-story_180_041716073148.jpg'"
      ]
     },
     "execution_count": 7,
     "metadata": {},
     "output_type": "execute_result"
    }
   ],
   "source": [
    "\n",
    "img_desc = soup.find('div', class_=\"pic\")\n",
    "\n",
    "image = img_desc.find('img')\n",
    "image['src']"
   ]
  },
  {
   "cell_type": "code",
   "execution_count": 8,
   "metadata": {},
   "outputs": [],
   "source": [
    "news_title = soup.find('div', class_='detail').text"
   ]
  },
  {
   "cell_type": "code",
   "execution_count": 9,
   "metadata": {
    "scrolled": true
   },
   "outputs": [
    {
     "name": "stdout",
     "output_type": "stream",
     "text": [
      "Rescuers arrive after Ecuador quake, 135 aftershocks reportedAuthorities in Ecuador are mobilizing resources and help is getting to the\n",
      "ground after a long night of fear, uncertainity caused by 7.8 earthquake that\n",
      "killed 77 people.\n"
     ]
    }
   ],
   "source": [
    "print(news_title)"
   ]
  },
  {
   "cell_type": "markdown",
   "metadata": {},
   "source": [
    "time.sleep(2)\n",
    "news_p = soup.find('div', class_=\"article_teaser_body\").text"
   ]
  },
  {
   "cell_type": "markdown",
   "metadata": {
    "scrolled": true
   },
   "source": [
    "print(news_p)"
   ]
  },
  {
   "cell_type": "markdown",
   "metadata": {},
   "source": [
    "## Earthquake Story Images"
   ]
  },
  {
   "cell_type": "code",
   "execution_count": 22,
   "metadata": {},
   "outputs": [],
   "source": [
    "# Visit the following URL\n",
    "url = \"https://www.indiatoday.in/earthquake-indiatoday?page=1&view_type=list\"\n",
    "\n",
    "browser.visit(url)"
   ]
  },
  {
   "cell_type": "code",
   "execution_count": 23,
   "metadata": {},
   "outputs": [],
   "source": [
    "xpath = '//*[@id=\"content\"]/div[3]/div[1]/div[1]/div[2]/h2/a'\n",
    "# xpath for image"
   ]
  },
  {
   "cell_type": "code",
   "execution_count": 24,
   "metadata": {},
   "outputs": [],
   "source": [
    "# Use splinter to Click the image to bring up the full resolution image\n",
    "results = browser.find_by_xpath(xpath)\n",
    "img = results[0]\n",
    "img.click()\n",
    "time.sleep(3)"
   ]
  },
  {
   "cell_type": "code",
   "execution_count": 25,
   "metadata": {},
   "outputs": [
    {
     "data": {
      "text/plain": [
       "'https://akm-img-a-in.tosshub.com/indiatoday/images/story/201604/ecuador-earthquake-story_647_041716073148.jpg'"
      ]
     },
     "execution_count": 25,
     "metadata": {},
     "output_type": "execute_result"
    }
   ],
   "source": [
    "# Scrape page into Soup\n",
    "html = browser.html\n",
    "soup = bs(html, \"html.parser\")\n",
    "\n",
    "img_desc = soup.find('div', class_=\"stryimg\")\n",
    "\n",
    "image = img_desc.find('img')\n",
    "image['src']"
   ]
  },
  {
   "cell_type": "code",
   "execution_count": 26,
   "metadata": {},
   "outputs": [
    {
     "ename": "AttributeError",
     "evalue": "'NoneType' object has no attribute 'text'",
     "output_type": "error",
     "traceback": [
      "\u001b[1;31m---------------------------------------------------------------------------\u001b[0m",
      "\u001b[1;31mAttributeError\u001b[0m                            Traceback (most recent call last)",
      "\u001b[1;32m<ipython-input-26-ae8ba55aa1f1>\u001b[0m in \u001b[0;36m<module>\u001b[1;34m\u001b[0m\n\u001b[1;32m----> 1\u001b[1;33m \u001b[0mnews_title\u001b[0m \u001b[1;33m=\u001b[0m \u001b[0msoup\u001b[0m\u001b[1;33m.\u001b[0m\u001b[0mfind\u001b[0m\u001b[1;33m(\u001b[0m\u001b[1;34m'div'\u001b[0m\u001b[1;33m,\u001b[0m \u001b[0mclass_\u001b[0m\u001b[1;33m=\u001b[0m\u001b[1;34m'node node-story view-mode-full'\u001b[0m\u001b[1;33m,\u001b[0m \u001b[0mitemprop\u001b[0m\u001b[1;33m=\u001b[0m\u001b[1;34m\"headline\"\u001b[0m\u001b[1;33m)\u001b[0m\u001b[1;33m.\u001b[0m\u001b[0mtext\u001b[0m\u001b[1;33m\u001b[0m\u001b[1;33m\u001b[0m\u001b[0m\n\u001b[0m\u001b[0;32m      2\u001b[0m \u001b[0mprint\u001b[0m\u001b[1;33m(\u001b[0m\u001b[0mnews_title\u001b[0m\u001b[1;33m)\u001b[0m\u001b[1;33m\u001b[0m\u001b[1;33m\u001b[0m\u001b[0m\n",
      "\u001b[1;31mAttributeError\u001b[0m: 'NoneType' object has no attribute 'text'"
     ]
    }
   ],
   "source": [
    "news_title = soup.find('div', class_='node node-story view-mode-full', itemprop=\"headline\").text\n",
    "print(news_title)\n"
   ]
  },
  {
   "cell_type": "code",
   "execution_count": 21,
   "metadata": {},
   "outputs": [
    {
     "name": "stdout",
     "output_type": "stream",
     "text": [
      "Authorities in Ecuador are mobilizing resources and help is getting to the ground after a long night of fear, uncertainity caused by 7.8 earthquake that killed 77 people.\n"
     ]
    }
   ],
   "source": [
    "time.sleep(2)\n",
    "news_p = soup.find('div', class_=\"story-kicker\").text\n",
    "print(news_p)"
   ]
  },
  {
   "cell_type": "code",
   "execution_count": null,
   "metadata": {},
   "outputs": [],
   "source": [
    "featured_image_url = url + image['src']"
   ]
  },
  {
   "cell_type": "markdown",
   "metadata": {},
   "source": [
    "print('featured_image_url = ' + featured_image_url)"
   ]
  },
  {
   "cell_type": "markdown",
   "metadata": {},
   "source": [
    "## Mars Weather"
   ]
  },
  {
   "cell_type": "code",
   "execution_count": null,
   "metadata": {},
   "outputs": [],
   "source": [
    "# Visit the following URL\n",
    "url = \"https://twitter.com/marswxreport?lang=en\"\n",
    "browser.visit(url)"
   ]
  },
  {
   "cell_type": "code",
   "execution_count": null,
   "metadata": {},
   "outputs": [],
   "source": [
    "# Scrape page into Soup\n",
    "html = browser.html\n",
    "soup = bs(html, \"html.parser\")"
   ]
  },
  {
   "cell_type": "code",
   "execution_count": null,
   "metadata": {},
   "outputs": [],
   "source": [
    "tweet = soup.find_all('p', class_=\"TweetTextSize TweetTextSize--normal js-tweet-text tweet-text\")"
   ]
  },
  {
   "cell_type": "code",
   "execution_count": null,
   "metadata": {
    "scrolled": true
   },
   "outputs": [],
   "source": [
    "print(tweet[0].text)"
   ]
  },
  {
   "cell_type": "code",
   "execution_count": null,
   "metadata": {},
   "outputs": [],
   "source": [
    "z=0\n",
    "for x in tweet:\n",
    "    if tweet[z].text.split(' ', 1)[0] == 'InSight':\n",
    "        mars_weather = tweet[z].text #_Mars weather\n",
    "        break\n",
    "    else:\n",
    "        z+=1\n",
    "# Scrapes for Mars weather"
   ]
  },
  {
   "cell_type": "code",
   "execution_count": null,
   "metadata": {
    "scrolled": true
   },
   "outputs": [],
   "source": [
    "print(mars_weather)"
   ]
  },
  {
   "cell_type": "markdown",
   "metadata": {},
   "source": [
    "## Mars Facts"
   ]
  },
  {
   "cell_type": "code",
   "execution_count": null,
   "metadata": {},
   "outputs": [],
   "source": [
    "#import pandas as pd\n",
    "# Visit the following URL\n",
    "url = \"https://space-facts.com/mars/\"\n",
    "browser.visit(url)"
   ]
  },
  {
   "cell_type": "code",
   "execution_count": null,
   "metadata": {
    "scrolled": false
   },
   "outputs": [],
   "source": [
    "tables = pd.read_html(url)\n",
    "tables\n",
    "# Scrape table of Mars facts"
   ]
  },
  {
   "cell_type": "code",
   "execution_count": null,
   "metadata": {},
   "outputs": [],
   "source": [
    "type(tables)"
   ]
  },
  {
   "cell_type": "code",
   "execution_count": null,
   "metadata": {
    "scrolled": true
   },
   "outputs": [],
   "source": [
    "tables[1]"
   ]
  },
  {
   "cell_type": "code",
   "execution_count": null,
   "metadata": {},
   "outputs": [],
   "source": [
    "df = tables[1]\n",
    "#df = df.values\n",
    "df"
   ]
  },
  {
   "cell_type": "code",
   "execution_count": null,
   "metadata": {},
   "outputs": [],
   "source": [
    "df = tables[1]\n",
    "df.columns = [' ', 'Value']\n",
    "df.head(10)"
   ]
  },
  {
   "cell_type": "code",
   "execution_count": null,
   "metadata": {},
   "outputs": [],
   "source": [
    "html_table = df.to_html(index=False)\n",
    "# df_html = df.to_html()\n",
    "# df_html\n",
    "html_table"
   ]
  },
  {
   "cell_type": "code",
   "execution_count": null,
   "metadata": {},
   "outputs": [],
   "source": []
  },
  {
   "cell_type": "markdown",
   "metadata": {},
   "source": [
    "## Mars Hemispheres"
   ]
  },
  {
   "cell_type": "code",
   "execution_count": null,
   "metadata": {},
   "outputs": [],
   "source": [
    "#import time\n",
    "# Visit the following URL\n",
    "#url = \"https://astrogeology.usgs.gov/search/results?q=hemisphere+enhanced&k1=target&v1=Mars\"\n",
    "url = \"https://astrogeology.usgs.gov/maps/mars-viking-hemisphere-point-perspectives\"    \n",
    "browser.visit(url)"
   ]
  },
  {
   "cell_type": "code",
   "execution_count": null,
   "metadata": {},
   "outputs": [],
   "source": [
    "hemisphere_image_urls = []"
   ]
  },
  {
   "cell_type": "code",
   "execution_count": null,
   "metadata": {},
   "outputs": [],
   "source": [
    "#url = \"https://astrogeology.usgs.gov/search/results?q=hemisphere+enhanced&k1=target&v1=Mars\"\n",
    "url = \"https://astrogeology.usgs.gov/maps/mars-viking-hemisphere-point-perspectives\"    \n",
    "browser.visit(url)\n",
    "\n",
    "img_list =[]\n",
    "img_url_list = []\n",
    "title_list = []\n",
    "hemi=2\n",
    "count=1\n",
    "x=0\n",
    "kiki=[]\n",
    "\n",
    "#url = \"https://astrogeology.usgs.gov/search/results?q=hemisphere+enhanced&k1=target&v1=Mars\"\n",
    "url = \"https://astrogeology.usgs.gov/maps/mars-viking-hemisphere-point-perspectives\"    \n",
    "#xpath = ('//*[@id=\"product-section\"]/div[2]/div[' + str(hemi) +']/div/a/h3')\n",
    "xpath = ('//*[@id=\"publish\"]/div[1]/div[1]/div[4]/div/a[' + str(hemi) +']/div/h3')    \n",
    "#              //*[@id=\"publish\"]/div[1]/div[1]/div[4]/div/a[4]/div/h3\n",
    "#              //*[@id=\"publish\"]/div[1]/div[1]/div[4]/div/a[6]/div/h3\n",
    "#              //*[@id=\"publish\"]/div[1]/div[1]/div[4]/div/a[8]/div/h3\n",
    "while count < 5:\n",
    "\n",
    "    browser.visit(url)\n",
    "\n",
    "    hemi_name = browser.find_by_xpath(xpath).text\n",
    "    print(hemi_name)\n",
    "    title_list.append(hemi_name)\n",
    "    \n",
    "    results = browser.find_by_xpath(xpath)\n",
    "\n",
    "    img = results[0]\n",
    "    img.click()\n",
    "    time.sleep(3)\n",
    "\n",
    "    # Scrape page into Soup\n",
    "    html = browser.html\n",
    "    soup = bs(html, \"html.parser\")\n",
    "    img_desc = soup.find('div', id=\"wide-image\")\n",
    "    img_src = img_desc.find('div',class_='downloads')\n",
    "    image = img_src.find('a')\n",
    "    if image.has_attr('href'):\n",
    "        target_img = image.attrs['href']\n",
    "        print(str(image.attrs['href']))\n",
    "        #print(str(image))\n",
    "\n",
    "    img_url_list.append(target_img)\n",
    "\n",
    "    hemi+=2\n",
    "#    xpath = ('//*[@id=\"product-section\"]/div[2]/div[' + str(hemi) +']/div/a/h3')\n",
    "    xpath = ('//*[@id=\"publish\"]/div[1]/div[1]/div[4]/div/a[' + str(hemi) +']/div/h3')    \n",
    "    count+=1\n",
    "    x+=1"
   ]
  },
  {
   "cell_type": "code",
   "execution_count": null,
   "metadata": {},
   "outputs": [],
   "source": [
    "#img_url_list"
   ]
  },
  {
   "cell_type": "code",
   "execution_count": null,
   "metadata": {
    "scrolled": true
   },
   "outputs": [],
   "source": [
    "#title_list"
   ]
  },
  {
   "cell_type": "code",
   "execution_count": null,
   "metadata": {},
   "outputs": [],
   "source": [
    "hemisphere_image_urls = []\n",
    "h=0\n",
    "for items in title_list:\n",
    "    if h < 4:\n",
    "        dict = {\"title\": title_list[h], \"img_url\": img_url_list[h]}\n",
    "        hemisphere_image_urls.append(dict)\n",
    "        h+=1\n",
    "print('hemisphere_image_urls')\n",
    "hemisphere_image_urls"
   ]
  },
  {
   "cell_type": "code",
   "execution_count": null,
   "metadata": {},
   "outputs": [],
   "source": []
  },
  {
   "cell_type": "markdown",
   "metadata": {},
   "source": [
    "# END"
   ]
  }
 ],
 "metadata": {
  "kernelspec": {
   "display_name": "Python 3",
   "language": "python",
   "name": "python3"
  },
  "language_info": {
   "codemirror_mode": {
    "name": "ipython",
    "version": 3
   },
   "file_extension": ".py",
   "mimetype": "text/x-python",
   "name": "python",
   "nbconvert_exporter": "python",
   "pygments_lexer": "ipython3",
   "version": "3.7.3"
  }
 },
 "nbformat": 4,
 "nbformat_minor": 2
}
